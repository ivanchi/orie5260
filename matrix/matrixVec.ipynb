{
 "cells": [
  {
   "cell_type": "code",
   "execution_count": 1,
   "metadata": {
    "collapsed": true
   },
   "outputs": [],
   "source": [
    "from pyspark import SparkConf, SparkContext"
   ]
  },
  {
   "cell_type": "code",
   "execution_count": 2,
   "metadata": {
    "collapsed": true
   },
   "outputs": [],
   "source": [
    "conf = SparkConf()"
   ]
  },
  {
   "cell_type": "code",
   "execution_count": 3,
   "metadata": {
    "collapsed": true
   },
   "outputs": [],
   "source": [
    "sc = SparkContext(conf=conf)"
   ]
  },
  {
   "cell_type": "code",
   "execution_count": 4,
   "metadata": {
    "collapsed": true
   },
   "outputs": [],
   "source": [
    "matrix = sc.textFile(\"matrix1.txt\").filter(lambda e: '\\t' in e)\n",
    "vector = sc.textFile(\"vec.txt\").filter(lambda e: '\\t' in e)"
   ]
  },
  {
   "cell_type": "code",
   "execution_count": 5,
   "metadata": {},
   "outputs": [
    {
     "data": {
      "text/plain": [
       "[u'1,2,3, 4\\t', u'4,5,6, 5\\t', u'7,8,9, 9\\t']"
      ]
     },
     "execution_count": 5,
     "metadata": {},
     "output_type": "execute_result"
    }
   ],
   "source": [
    "matrix.collect()"
   ]
  },
  {
   "cell_type": "code",
   "execution_count": 6,
   "metadata": {},
   "outputs": [
    {
     "data": {
      "text/plain": [
       "[(0, 1),\n",
       " (1, 2),\n",
       " (2, 3),\n",
       " (3, 4),\n",
       " (0, 4),\n",
       " (1, 5),\n",
       " (2, 6),\n",
       " (3, 5),\n",
       " (0, 7),\n",
       " (1, 8),\n",
       " (2, 9),\n",
       " (3, 9)]"
      ]
     },
     "execution_count": 6,
     "metadata": {},
     "output_type": "execute_result"
    }
   ],
   "source": [
    "m = matrix.map(lambda line: line.split(','))\n",
    "nRow = matrix.count()\n",
    "mat = m.flatMap(lambda parts: [(int(i), int(parts[i])) for i in range(len(parts))])\n",
    "nCol = mat.count()/nRow\n",
    "mat.collect()"
   ]
  },
  {
   "cell_type": "code",
   "execution_count": 7,
   "metadata": {},
   "outputs": [
    {
     "data": {
      "text/plain": [
       "[((0, 1), 0),\n",
       " ((1, 2), 1),\n",
       " ((2, 3), 2),\n",
       " ((3, 4), 3),\n",
       " ((0, 4), 4),\n",
       " ((1, 5), 5),\n",
       " ((2, 6), 6),\n",
       " ((3, 5), 7),\n",
       " ((0, 7), 8),\n",
       " ((1, 8), 9),\n",
       " ((2, 9), 10),\n",
       " ((3, 9), 11)]"
      ]
     },
     "execution_count": 7,
     "metadata": {},
     "output_type": "execute_result"
    }
   ],
   "source": [
    "a = mat.zipWithIndex()\n",
    "a.collect()"
   ]
  },
  {
   "cell_type": "code",
   "execution_count": 8,
   "metadata": {},
   "outputs": [
    {
     "data": {
      "text/plain": [
       "[[0, (0, 1)],\n",
       " [0, (1, 2)],\n",
       " [0, (2, 3)],\n",
       " [0, (3, 4)],\n",
       " [1, (0, 4)],\n",
       " [1, (1, 5)],\n",
       " [1, (2, 6)],\n",
       " [1, (3, 5)],\n",
       " [2, (0, 7)],\n",
       " [2, (1, 8)],\n",
       " [2, (2, 9)],\n",
       " [2, (3, 9)]]"
      ]
     },
     "execution_count": 8,
     "metadata": {},
     "output_type": "execute_result"
    }
   ],
   "source": [
    "new_mat = a.map(lambda t: [(t[1])//nCol, t[0]])\n",
    "new_mat.collect()"
   ]
  },
  {
   "cell_type": "code",
   "execution_count": 9,
   "metadata": {},
   "outputs": [
    {
     "data": {
      "text/plain": [
       "[(0, 10), (1, 11)]"
      ]
     },
     "execution_count": 9,
     "metadata": {},
     "output_type": "execute_result"
    }
   ],
   "source": [
    "v = vector.map(lambda line: line.split(',')).flatMap(lambda e: [(int(i), int(e[i])) for i in range(len(e))])\n",
    "v.collect()"
   ]
  },
  {
   "cell_type": "code",
   "execution_count": 10,
   "metadata": {},
   "outputs": [
    {
     "data": {
      "text/plain": [
       "[(0, ((0, 1), 10)),\n",
       " (0, ((1, 2), 10)),\n",
       " (0, ((2, 3), 10)),\n",
       " (0, ((3, 4), 10)),\n",
       " (1, ((0, 4), 11)),\n",
       " (1, ((1, 5), 11)),\n",
       " (1, ((2, 6), 11)),\n",
       " (1, ((3, 5), 11))]"
      ]
     },
     "execution_count": 10,
     "metadata": {},
     "output_type": "execute_result"
    }
   ],
   "source": [
    "rows = new_mat.join(v)\n",
    "rows.collect()"
   ]
  },
  {
   "cell_type": "code",
   "execution_count": 11,
   "metadata": {},
   "outputs": [
    {
     "data": {
      "text/plain": [
       "[(0, (0, 10)),\n",
       " (0, (1, 20)),\n",
       " (0, (2, 30)),\n",
       " (0, (3, 40)),\n",
       " (1, (0, 44)),\n",
       " (1, (1, 55)),\n",
       " (1, (2, 66)),\n",
       " (1, (3, 55))]"
      ]
     },
     "execution_count": 11,
     "metadata": {},
     "output_type": "execute_result"
    }
   ],
   "source": [
    "rows_mult = rows.map(lambda tuple: (tuple[0], (tuple[1][0][0], tuple[1][0][1] * tuple[1][1])))\n",
    "rows_mult.collect()"
   ]
  },
  {
   "cell_type": "code",
   "execution_count": 12,
   "metadata": {},
   "outputs": [
    {
     "data": {
      "text/plain": [
       "[(0, 10), (1, 20), (2, 30), (3, 40), (0, 44), (1, 55), (2, 66), (3, 55)]"
      ]
     },
     "execution_count": 12,
     "metadata": {},
     "output_type": "execute_result"
    }
   ],
   "source": [
    "rows_val = rows_mult.map(lambda t: t[1])\n",
    "rows_val.collect()"
   ]
  },
  {
   "cell_type": "code",
   "execution_count": 13,
   "metadata": {},
   "outputs": [
    {
     "data": {
      "text/plain": [
       "[(0, 54), (1, 75), (2, 96), (3, 95)]"
      ]
     },
     "execution_count": 13,
     "metadata": {},
     "output_type": "execute_result"
    }
   ],
   "source": [
    "new_v = rows_val.reduceByKey(lambda v1, v2: v1 + v2)\n",
    "new_v.sortByKey().collect()"
   ]
  },
  {
   "cell_type": "code",
   "execution_count": null,
   "metadata": {
    "collapsed": true
   },
   "outputs": [],
   "source": []
  }
 ],
 "metadata": {
  "kernelspec": {
   "display_name": "Python 2",
   "language": "python",
   "name": "python2"
  },
  "language_info": {
   "codemirror_mode": {
    "name": "ipython",
    "version": 2
   },
   "file_extension": ".py",
   "mimetype": "text/x-python",
   "name": "python",
   "nbconvert_exporter": "python",
   "pygments_lexer": "ipython2",
   "version": "2.7.14"
  }
 },
 "nbformat": 4,
 "nbformat_minor": 2
}
