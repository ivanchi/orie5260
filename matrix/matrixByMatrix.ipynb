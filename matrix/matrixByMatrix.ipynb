{
 "cells": [
  {
   "cell_type": "code",
   "execution_count": 1,
   "metadata": {
    "collapsed": true
   },
   "outputs": [],
   "source": [
    "from pyspark import SparkConf, SparkContext"
   ]
  },
  {
   "cell_type": "code",
   "execution_count": 2,
   "metadata": {
    "collapsed": true
   },
   "outputs": [],
   "source": [
    "conf = SparkConf()"
   ]
  },
  {
   "cell_type": "code",
   "execution_count": 3,
   "metadata": {
    "collapsed": true
   },
   "outputs": [],
   "source": [
    "sc = SparkContext(conf=conf)"
   ]
  },
  {
   "cell_type": "code",
   "execution_count": 4,
   "metadata": {
    "collapsed": true
   },
   "outputs": [],
   "source": [
    "data1 = sc.textFile(\"matrix1.txt\").filter(lambda e: '\\t' in e)\n",
    "data2 = sc.textFile(\"matrix2.txt\").filter(lambda e: '\\t' in e)"
   ]
  },
  {
   "cell_type": "code",
   "execution_count": 5,
   "metadata": {},
   "outputs": [
    {
     "data": {
      "text/plain": [
       "[(0, 1),\n",
       " (1, 2),\n",
       " (2, 3),\n",
       " (3, 4),\n",
       " (0, 4),\n",
       " (1, 5),\n",
       " (2, 6),\n",
       " (3, 5),\n",
       " (0, 7),\n",
       " (1, 8),\n",
       " (2, 9),\n",
       " (3, 9)]"
      ]
     },
     "execution_count": 5,
     "metadata": {},
     "output_type": "execute_result"
    }
   ],
   "source": [
    "nRow1 = data1.count()\n",
    "matrix1 = data1.map(lambda l: l.split(',')).flatMap(lambda entry: [(int(e), int(entry[e])) for e in range(len(entry))])\n",
    "nCol1 = matrix1.count()/nRow1\n",
    "matrix1.collect()"
   ]
  },
  {
   "cell_type": "code",
   "execution_count": 6,
   "metadata": {},
   "outputs": [
    {
     "data": {
      "text/plain": [
       "[(0, 1), (1, 4), (0, 2), (1, 5), (0, 3), (1, 6), (0, 3), (1, 6)]"
      ]
     },
     "execution_count": 6,
     "metadata": {},
     "output_type": "execute_result"
    }
   ],
   "source": [
    "nRow2 = data2.count()\n",
    "matrix2 = data2.map(lambda l: l.split(',')).flatMap(lambda entry: [(int(e), int(entry[e])) for e in range(len(entry))])\n",
    "nCol2 = matrix2.count()/nRow2\n",
    "matrix2.collect()"
   ]
  },
  {
   "cell_type": "code",
   "execution_count": 7,
   "metadata": {},
   "outputs": [
    {
     "data": {
      "text/plain": [
       "[((0, 0), [1, 2, 3, 4]),\n",
       " ((0, 1), [1, 2, 3, 4]),\n",
       " ((1, 0), [4, 5, 6, 5]),\n",
       " ((1, 1), [4, 5, 6, 5]),\n",
       " ((2, 0), [7, 8, 9, 9]),\n",
       " ((2, 1), [7, 8, 9, 9])]"
      ]
     },
     "execution_count": 7,
     "metadata": {},
     "output_type": "execute_result"
    }
   ],
   "source": [
    "mat1 = matrix1.zipWithIndex().map(lambda l: (l[1]//nCol1, l[0][1]))\n",
    "ma1 = mat1.groupByKey().mapValues(list).map(lambda v: [((v[0], int(i)),v[1]) for i in range(nCol2)])\n",
    "#m1 = ma1.map(lambda (k, v): [((k, v[i][0]), v[i][1]) for i in range(len(v))])\n",
    "#m1 = m1.flatMap(lambda l: l).mapValues(lambda v: [v[i][1] for i in range(len(v))])\n",
    "m1 = ma1.flatMap(lambda l: l)\n",
    "m1.collect()"
   ]
  },
  {
   "cell_type": "code",
   "execution_count": 21,
   "metadata": {},
   "outputs": [
    {
     "data": {
      "text/plain": [
       "[((0, 0), [1, 2, 3, 3]),\n",
       " ((1, 0), [1, 2, 3, 3]),\n",
       " ((2, 0), [1, 2, 3, 3]),\n",
       " ((0, 1), [4, 5, 6, 6]),\n",
       " ((1, 1), [4, 5, 6, 6]),\n",
       " ((2, 1), [4, 5, 6, 6])]"
      ]
     },
     "execution_count": 21,
     "metadata": {},
     "output_type": "execute_result"
    }
   ],
   "source": [
    "mat2 = matrix2.groupByKey().mapValues(list)\n",
    "ma2 = mat2.map(lambda v: [((i, v[0]), v[1]) for i in range(nRow1)])\n",
    "#m2 = m2.map(value)\n",
    "m2 = ma2.flatMap(lambda l: l)\n",
    "m2.collect()"
   ]
  },
  {
   "cell_type": "code",
   "execution_count": 22,
   "metadata": {},
   "outputs": [
    {
     "data": {
      "text/plain": [
       "[((2, 0), [[7, 8, 9, 9], [1, 2, 3, 3]]),\n",
       " ((0, 0), [[1, 2, 3, 4], [1, 2, 3, 3]]),\n",
       " ((1, 1), [[4, 5, 6, 5], [4, 5, 6, 6]]),\n",
       " ((0, 1), [[1, 2, 3, 4], [4, 5, 6, 6]]),\n",
       " ((1, 0), [[4, 5, 6, 5], [1, 2, 3, 3]]),\n",
       " ((2, 1), [[7, 8, 9, 9], [4, 5, 6, 6]])]"
      ]
     },
     "execution_count": 22,
     "metadata": {},
     "output_type": "execute_result"
    }
   ],
   "source": [
    "matrix = m1.union(m2).groupByKey().mapValues(list)\n",
    "matrix.collect()"
   ]
  },
  {
   "cell_type": "code",
   "execution_count": 23,
   "metadata": {
    "collapsed": true
   },
   "outputs": [],
   "source": [
    "def mul(tuple):\n",
    "    s = 0\n",
    "    for i in range(len(tuple[1][0])):\n",
    "        s += tuple[1][0][i] * tuple[1][1][i]\n",
    "    return (tuple[0], s)"
   ]
  },
  {
   "cell_type": "code",
   "execution_count": 25,
   "metadata": {},
   "outputs": [
    {
     "data": {
      "text/plain": [
       "[((0, 0), 26),\n",
       " ((0, 1), 56),\n",
       " ((1, 0), 47),\n",
       " ((1, 1), 107),\n",
       " ((2, 0), 77),\n",
       " ((2, 1), 176)]"
      ]
     },
     "execution_count": 25,
     "metadata": {},
     "output_type": "execute_result"
    }
   ],
   "source": [
    "matrix.map(mul).sortByKey().collect()"
   ]
  },
  {
   "cell_type": "code",
   "execution_count": 4,
   "metadata": {},
   "outputs": [
    {
     "data": {
      "text/plain": [
       "[u'1,2,3, 4\\t', u'4,5,6, 5\\t', u'7,8,9, 9\\t']"
      ]
     },
     "execution_count": 4,
     "metadata": {},
     "output_type": "execute_result"
    }
   ],
   "source": [
    "sc.textFile(\"matrix1.txt\").collect()"
   ]
  },
  {
   "cell_type": "code",
   "execution_count": null,
   "metadata": {
    "collapsed": true
   },
   "outputs": [],
   "source": []
  }
 ],
 "metadata": {
  "kernelspec": {
   "display_name": "Python 2",
   "language": "python",
   "name": "python2"
  },
  "language_info": {
   "codemirror_mode": {
    "name": "ipython",
    "version": 2
   },
   "file_extension": ".py",
   "mimetype": "text/x-python",
   "name": "python",
   "nbconvert_exporter": "python",
   "pygments_lexer": "ipython2",
   "version": "2.7.14"
  }
 },
 "nbformat": 4,
 "nbformat_minor": 2
}
