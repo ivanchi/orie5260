{
 "cells": [
  {
   "cell_type": "code",
   "execution_count": 1,
   "metadata": {
    "collapsed": true
   },
   "outputs": [],
   "source": [
    "from pyspark import SparkConf, SparkContext"
   ]
  },
  {
   "cell_type": "code",
   "execution_count": 2,
   "metadata": {},
   "outputs": [],
   "source": [
    "def matrixByMatrix(M1, M2):\n",
    "    '''Using spark multiply a matrix (n x p) by vector (p x m)\n",
    "       Output - n x m matrix\n",
    "    '''\n",
    "    \n",
    "    def mul(tuple):\n",
    "        s = 0\n",
    "        for i in range(len(tuple[1][0])):\n",
    "            s += tuple[1][0][i] * tuple[1][1][i]\n",
    "        return (tuple[0], s)\n",
    "    \n",
    "    \n",
    "    # Reading input\n",
    "    conf = SparkConf()\n",
    "    sc = SparkContext(conf=conf)\n",
    "    data1 = sc.textFile(M1)\n",
    "    data2 = sc.textFile(M2)\n",
    "    \n",
    "    # Transform data and count index\n",
    "    nRow1 = data1.count()\n",
    "    matrix1 = data1.map(lambda l: l.split(',')).flatMap(lambda entry: [(int(e), int(entry[e])) for e in range(len(entry))])\n",
    "    nCol1 = matrix1.count()/nRow1\n",
    "    \n",
    "    nRow2 = data2.count()\n",
    "    matrix2 = data2.map(lambda l: l.split(',')).flatMap(lambda entry: [(int(e), int(entry[e])) for e in range(len(entry))])\n",
    "    nCol2 = matrix2.count()/nRow2\n",
    "    \n",
    "    assert nCol1 == nRow2\n",
    "    \n",
    "    mat1 = matrix1.zipWithIndex().map(lambda l: (l[1]//nCol1, l[0][1]))\n",
    "    ma1 = mat1.groupByKey().mapValues(list).map(lambda v: [((v[0], int(i)),v[1]) for i in range(nCol2)])\n",
    "    m1 = ma1.flatMap(lambda l: l)\n",
    "    \n",
    "    mat2 = matrix2.groupByKey().mapValues(list)\n",
    "    ma2 = mat2.map(lambda v: [((i, v[0]), v[1]) for i in range(nRow1)])\n",
    "    m2 = ma2.flatMap(lambda l: l)\n",
    "    \n",
    "    # Merge two matrics\n",
    "    matrix = m1.union(m2).groupByKey().mapValues(list)\n",
    "    \n",
    "    output = matrix.map(mul).sortByKey().collect()\n",
    "    str_mat = ''\n",
    "    \n",
    "    for i in range(len(output)):\n",
    "        if i % nCol2 == 0:\n",
    "            str_mat += str(output[i][1]) + ','\n",
    "        else:\n",
    "            str_mat += str(output[i][1]) + '\\n'\n",
    "    \n",
    "    f = open(\"matrixByMatrixResult.txt\",\"w\")\n",
    "    f.write(str_mat)\n",
    "    f.close()\n",
    "    \n",
    "    return str_mat"
   ]
  },
  {
   "cell_type": "code",
   "execution_count": 3,
   "metadata": {},
   "outputs": [],
   "source": [
    "if __name__ == \"__main__\":\n",
    "    a = matrixByMatrix('matrix1.txt', 'matrix2.txt')"
   ]
  },
  {
   "cell_type": "code",
   "execution_count": 4,
   "metadata": {},
   "outputs": [
    {
     "name": "stdout",
     "output_type": "stream",
     "text": [
      "26,56\n",
      "47,107\n",
      "77,176\n",
      "\n"
     ]
    }
   ],
   "source": [
    "print(a)"
   ]
  },
  {
   "cell_type": "code",
   "execution_count": null,
   "metadata": {
    "collapsed": true
   },
   "outputs": [],
   "source": []
  }
 ],
 "metadata": {
  "kernelspec": {
   "display_name": "Python 2",
   "language": "python",
   "name": "python2"
  },
  "language_info": {
   "codemirror_mode": {
    "name": "ipython",
    "version": 2
   },
   "file_extension": ".py",
   "mimetype": "text/x-python",
   "name": "python",
   "nbconvert_exporter": "python",
   "pygments_lexer": "ipython2",
   "version": "2.7.14"
  }
 },
 "nbformat": 4,
 "nbformat_minor": 2
}
