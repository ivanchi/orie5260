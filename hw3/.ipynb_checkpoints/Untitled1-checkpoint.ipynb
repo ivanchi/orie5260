{
 "cells": [
  {
   "cell_type": "code",
   "execution_count": 1,
   "metadata": {
    "collapsed": true
   },
   "outputs": [],
   "source": [
    "def txt2dic(name_txt_file):\n",
    "    dic = {}\n",
    "    with open(name_txt_file) as f:\n",
    "        for i, line in enumerate(f):\n",
    "            if '\\n' in line:\n",
    "                line = line.replace('\\n', '')\n",
    "            line = line.strip()\n",
    "            if i % 2 == 0:\n",
    "                line = int(line)\n",
    "                dic[line] = None\n",
    "                last_key = line\n",
    "            else:\n",
    "                val = {}\n",
    "                if line != '':\n",
    "                    line = tuple(line.split(','))\n",
    "                    for j, st in enumerate(line):\n",
    "                        st = st.strip()\n",
    "                        if j % 2 == 0:\n",
    "                            if st[1] == '-':\n",
    "                                for i in range(2, len(st)):\n",
    "                                    if not st[i].isdigit():\n",
    "                                        break\n",
    "                                val[-1*int(st[2:i])] = None\n",
    "                            else:\n",
    "                                val[int(st[1:])] = None\n",
    "                            key = int(st[1])\n",
    "                        else:\n",
    "                            if st[0] == '-':\n",
    "                                for i in range(1, len(st)):\n",
    "                                    if not st[i].isdigit():\n",
    "                                        break\n",
    "                                val[key] = -1*int(st[1:i])\n",
    "                            else:\n",
    "                                for i in range(len(st)):\n",
    "                                    if not st[i].isdigit():\n",
    "                                        break\n",
    "                                val[key] = int(st[:-1])\n",
    "                dic[last_key] = val\n",
    "    return dic"
   ]
  },
  {
   "cell_type": "code",
   "execution_count": 287,
   "metadata": {},
   "outputs": [],
   "source": [
    "def find_negative_circles(name_txt_file):\n",
    "    graph = txt2dic(name_txt_file)\n",
    "    nodes = list(set(graph.keys() + [k for v in graph.values() if v!= None for k in v.keys()]))\n",
    "    l = 0\n",
    "    pre = {}\n",
    "    while pre == {} and l < len(nodes):\n",
    "        n = len(nodes) + 1\n",
    "        M = {i: {j: float(\"inf\") for j in nodes} for i in range(n)}\n",
    "        M[0][nodes[l - 1]] = 0\n",
    "        opt = float(\"inf\")\n",
    "        pre = {}\n",
    "        for i in range(1, n):\n",
    "            for j in nodes:\n",
    "                minimum = float(\"inf\")\n",
    "                min_node = None\n",
    "                #print(j)\n",
    "                if j in graph.keys() and graph[j]:\n",
    "                    for k in graph[j].keys():\n",
    "                        if M[i - 1][k] + graph[j][k] < minimum:\n",
    "                            minimum = M[i - 1][k] + graph[j][k]\n",
    "                            min_node = k\n",
    "                if minimum < M[i][j]:\n",
    "                    pre[min_node] = j\n",
    "                M[i][j] = min(M[i - 1][j], minimum)\n",
    "                if M[i][j] < opt:\n",
    "                    opt = M[i][j]\n",
    "                    source = j\n",
    "        if M[n-1][nodes[-1]] > M[n -2][nodes[-1]]:\n",
    "            return None\n",
    "        l += 1\n",
    "\n",
    "    def path(source, destination, bk, n):\n",
    "        ans = []\n",
    "        i = 0\n",
    "        tracker = None\n",
    "        prv = source\n",
    "        while prv in bk.values() and i < n:\n",
    "            prv = bk.keys()[bk.values().index(prv)]\n",
    "            ans.append(prv)\n",
    "            i += 1\n",
    "        while i < n and tracker != source:\n",
    "            ans.append(source)\n",
    "            if source in bk.keys():\n",
    "                source = bk[source]\n",
    "                tracker = None\n",
    "            else:\n",
    "                tracker = source\n",
    "            i += 1\n",
    "        return ans[::-1]\n",
    "    #return path(source, nodes[-1], pre, n), opt, source, nodes[-1]\n",
    "    p1 = path(source, nodes[-1], pre, n - 1)\n",
    "    def detect(path, graph):\n",
    "        stack = []\n",
    "        cycles = []\n",
    "        val = 0\n",
    "        stack.append(path.pop(0))\n",
    "        while path != []:\n",
    "            val += graph[stack[-1]][path[0]]\n",
    "            stack.append(path.pop(0))\n",
    "            if len(set(graph[stack[-1]].keys()) & set(stack)) > 0:\n",
    "                if val < 0:\n",
    "                    cycles.append(stack)\n",
    "                else:\n",
    "                    val = 0\n",
    "                if path != []:\n",
    "                    stack = [path.pop(0)]\n",
    "        return cycles if cycles != [] else None\n",
    "    cycles = detect(p1, graph)\n",
    "    return cycles[0] if len(cycles) == 1 else cycles"
   ]
  },
  {
   "cell_type": "code",
   "execution_count": 288,
   "metadata": {
    "scrolled": true
   },
   "outputs": [
    {
     "data": {
      "text/plain": [
       "[1, 2, 3]"
      ]
     },
     "execution_count": 288,
     "metadata": {},
     "output_type": "execute_result"
    }
   ],
   "source": [
    "find_negative_circles(\"graph4.txt\")"
   ]
  },
  {
   "cell_type": "code",
   "execution_count": 289,
   "metadata": {},
   "outputs": [
    {
     "data": {
      "text/plain": [
       "set()"
      ]
     },
     "execution_count": 289,
     "metadata": {},
     "output_type": "execute_result"
    }
   ],
   "source": [
    "a = [3]\n",
    "b = [1, 2]\n",
    "set(a) & set(b)"
   ]
  },
  {
   "cell_type": "code",
   "execution_count": 290,
   "metadata": {},
   "outputs": [
    {
     "data": {
      "text/plain": [
       "[11, 3, 5, 6, 7]"
      ]
     },
     "execution_count": 290,
     "metadata": {},
     "output_type": "execute_result"
    }
   ],
   "source": [
    "find_negative_circles(\"graph5.txt\")"
   ]
  },
  {
   "cell_type": "code",
   "execution_count": 237,
   "metadata": {},
   "outputs": [
    {
     "data": {
      "text/plain": [
       "7"
      ]
     },
     "execution_count": 237,
     "metadata": {},
     "output_type": "execute_result"
    }
   ],
   "source": [
    "a = {3: 11, 5: 3, 6: 5, 7: 6}\n",
    "a.keys()[a.values().index(6)]"
   ]
  },
  {
   "cell_type": "code",
   "execution_count": 42,
   "metadata": {},
   "outputs": [
    {
     "data": {
      "text/plain": [
       "(4,\n",
       " {0: {1: inf, 2: inf, 3: inf, 6: inf, 7: 0, 8: inf, 9: inf},\n",
       "  1: {1: 2, 2: inf, 3: inf, 6: inf, 7: 0, 8: inf, 9: inf},\n",
       "  2: {1: 2, 2: inf, 3: -3, 6: inf, 7: 0, 8: inf, 9: 4},\n",
       "  3: {1: 2, 2: -5, 3: -3, 6: inf, 7: 0, 8: 5, 9: 4},\n",
       "  4: {1: -6, 2: -5, 3: -3, 6: inf, 7: 0, 8: 5, 9: 4},\n",
       "  5: {1: -6, 2: -5, 3: -11, 6: inf, 7: 0, 8: 5, 9: -4},\n",
       "  6: {1: -6, 2: -13, 3: -11, 6: inf, 7: 0, 8: -3, 9: -4},\n",
       "  7: {1: -14, 2: -13, 3: -11, 6: inf, 7: -2, 8: -3, 9: -4},\n",
       "  8: {1: -14, 2: -13, 3: -19, 6: inf, 7: -2, 8: -3, 9: -12}})"
      ]
     },
     "execution_count": 42,
     "metadata": {},
     "output_type": "execute_result"
    }
   ],
   "source": [
    "find_negative_circles(\"graph4.txt\")"
   ]
  },
  {
   "cell_type": "code",
   "execution_count": null,
   "metadata": {
    "collapsed": true
   },
   "outputs": [],
   "source": []
  }
 ],
 "metadata": {
  "kernelspec": {
   "display_name": "Python 2",
   "language": "python",
   "name": "python2"
  },
  "language_info": {
   "codemirror_mode": {
    "name": "ipython",
    "version": 2
   },
   "file_extension": ".py",
   "mimetype": "text/x-python",
   "name": "python",
   "nbconvert_exporter": "python",
   "pygments_lexer": "ipython2",
   "version": "2.7.14"
  }
 },
 "nbformat": 4,
 "nbformat_minor": 2
}
