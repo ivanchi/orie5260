{
 "cells": [
  {
   "cell_type": "code",
   "execution_count": null,
   "metadata": {
    "collapsed": true
   },
   "outputs": [],
   "source": [
    "import unittest\n",
    "from bellman import find_negative_circles, txt2dic"
   ]
  },
  {
   "cell_type": "code",
   "execution_count": 2,
   "metadata": {},
   "outputs": [
    {
     "name": "stderr",
     "output_type": "stream",
     "text": [
      "..."
     ]
    },
    {
     "name": "stdout",
     "output_type": "stream",
     "text": [
      "{1: {2: -1, 7: 2}, 2: {3: -2}, 3: {1: -5, 6: 2}, 6: {}, 7: {8: 1}, 8: {9: 1}, 9: {1: 2}}\n",
      "{3: {5: -1}, 5: {6: -1}, 6: {9: 1, 7: -1}, 7: {3: -1}, 9: None, 11: {9: 1, 3: 2}}\n",
      "{8: {5: -1}, 3: {4: 1}, 4: {8: -1, 5: 1}, 5: {4: 1, 7: 1}, 7: None}\n",
      "[8, 5, 4, 8]\n",
      "{8: {5: -1}, 3: {4: 1}, 4: {8: -1, 5: 1}, 5: {4: 1, 7: 1}, 7: None}\n"
     ]
    },
    {
     "name": "stderr",
     "output_type": "stream",
     "text": [
      "\n",
      "----------------------------------------------------------------------\n",
      "Ran 3 tests in 0.009s\n",
      "\n",
      "OK\n"
     ]
    }
   ],
   "source": [
    "class testBellman(unittest.TestCase):\n",
    "\n",
    "    def test_find_negative_circles1(self):\n",
    "        graph4 = txt2dic(\"graph4.txt\")\n",
    "        expected_graph4 = {1:{ 2: -1, 7: 2}, 2:{3: -2}, 3:{1: -5, 6: 2}, 6:{}, 7:{8:1}, 8:{9:1}, 9:{1:2}}\n",
    "        self.assertDictEqual(graph4, expected_graph4)\n",
    "        assert find_negative_circles(\"graph4.txt\") == [1, 2, 3]\n",
    "        \n",
    "    def test_find_negative_circles2(self):\n",
    "        assert find_negative_circles(\"graph5.txt\") == [11, 3, 5, 6, 7]\n",
    "    \n",
    "    def test_find_negative_circles3(self):\n",
    "        print(find_negative_circles(\"graph6.txt\"))\n",
    "        assert find_negative_circles(\"graph6.txt\") == [8, 5, 4, 8]\n",
    "    \n",
    "if __name__ == '__main__':\n",
    "    unittest.main(argv=['first-arg-is-ignored'], exit=False)"
   ]
  },
  {
   "cell_type": "code",
   "execution_count": null,
   "metadata": {
    "collapsed": true
   },
   "outputs": [],
   "source": [
    "find_shortest_path(\"graph1.txt\", 2, 4)"
   ]
  },
  {
   "cell_type": "code",
   "execution_count": null,
   "metadata": {
    "collapsed": true
   },
   "outputs": [],
   "source": [
    "a = {1:{ 2: 2, 3: 4, 4: 3}, 2:{5: 1}, 3:{6: 2, 4: 3}, 4:{6: 4, 1: 1}, 5:{6, 1}, 6: None}"
   ]
  },
  {
   "cell_type": "code",
   "execution_count": null,
   "metadata": {
    "collapsed": true
   },
   "outputs": [],
   "source": [
    "len(zip(a.iteritems(), a.iteritems()))"
   ]
  },
  {
   "cell_type": "code",
   "execution_count": null,
   "metadata": {
    "collapsed": true
   },
   "outputs": [],
   "source": [
    "shared_items = {k: a[k] for k in a if k in a and a[k] == a[k]}\n",
    "print len(shared_items)"
   ]
  },
  {
   "cell_type": "code",
   "execution_count": null,
   "metadata": {
    "collapsed": true
   },
   "outputs": [],
   "source": [
    "shared_items"
   ]
  },
  {
   "cell_type": "code",
   "execution_count": null,
   "metadata": {
    "collapsed": true
   },
   "outputs": [],
   "source": []
  }
 ],
 "metadata": {
  "kernelspec": {
   "display_name": "Python 2",
   "language": "python",
   "name": "python2"
  },
  "language_info": {
   "codemirror_mode": {
    "name": "ipython",
    "version": 2
   },
   "file_extension": ".py",
   "mimetype": "text/x-python",
   "name": "python",
   "nbconvert_exporter": "python",
   "pygments_lexer": "ipython2",
   "version": "2.7.14"
  }
 },
 "nbformat": 4,
 "nbformat_minor": 2
}
