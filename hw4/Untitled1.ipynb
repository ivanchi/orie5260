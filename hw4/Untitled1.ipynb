{
 "cells": [
  {
   "cell_type": "code",
   "execution_count": 2,
   "metadata": {
    "collapsed": true
   },
   "outputs": [],
   "source": [
    "from pyspark import SparkConf, SparkContext\n",
    "import numpy as np"
   ]
  },
  {
   "cell_type": "code",
   "execution_count": null,
   "metadata": {
    "collapsed": true
   },
   "outputs": [],
   "source": [
    "def pyspark_kmeans(data_txt, c_txt):\n",
    "    \"\"\"k-mean algotihm to cluster\n",
    "    \"\"\"\n",
    "    # suppress large decimal floats\n",
    "    np.set_printoptions(suppress=True)\n",
    "    \n",
    "    # set up spark\n",
    "    conf = SparkConf()\n",
    "    sc = SparkContext(conf=conf)\n",
    "    \n",
    "    # loading data and initial points\n",
    "    data = sc.textFile(data_txt).map(lambda line: np.array([float(x) for x in line.split(' ')])).cache()\n",
    "    centroids = sc.textFile(c_txt).map(lambda line: np.array([float(x) for x in line.split(' ')]))\n",
    "    \n",
    "    # adding index to data\n",
    "    dat = data.zipWithIndex()\n",
    "\n",
    "    max_iter = 20\n",
    "    \n",
    "    for _ in range(max_iter):\n",
    "        # adding index to centroids\n",
    "        cen = centroids.zipWithIndex()\n",
    "        # adding every centoirds to data\n",
    "        distance = dat.cartesian(cen)\n",
    "        # map and calculate distance to each centroids\n",
    "        dist = distance.map(lambda line: (line[0][1], (np.linalg.norm(line[0][0] - line[1][0]), line[0][0], line[1][1])))\n",
    "        # reduce to get the minimum distance cluster\n",
    "        dis = dist.reduceByKey(lambda v1, v2: min(v1, v2)).map(lambda line: (line[1][2], (line[1][1], 1)))\n",
    "        # average cluster to get new centroids\n",
    "        centroids = dis.reduceByKey(lambda (v1, v2), (x1, x2): (v1 + x1, v2 + x2)).map(lambda l: [l[1][0]/l[1][1]])\n",
    "    lists = centroids.collect()\n",
    "    \n",
    "    # output to txt file\n",
    "    txt = ''\n",
    "    for i in lists:\n",
    "        line = np.array2string(i[0], separator='' ,suppress_small=True)\n",
    "        new_line = ' '.join(line.split())[2:-2] + '\\n'\n",
    "        txt += new_line\n",
    "    new_txt = txt.rstrip('\\n')\n",
    "    text_file = open(\"Output.txt\", \"w\")\n",
    "    text_file.write(new_txt)\n",
    "    text_file.close()\n",
    "    \n",
    "    return new_txt"
   ]
  },
  {
   "cell_type": "code",
   "execution_count": null,
   "metadata": {},
   "outputs": [],
   "source": [
    "new_txt = pyspark_kmeans(\"datafile3.txt\", \"c1.txt\")\n",
    "print(new_txt)"
   ]
  }
 ],
 "metadata": {
  "kernelspec": {
   "display_name": "Python 2",
   "language": "python",
   "name": "python2"
  },
  "language_info": {
   "codemirror_mode": {
    "name": "ipython",
    "version": 2
   },
   "file_extension": ".py",
   "mimetype": "text/x-python",
   "name": "python",
   "nbconvert_exporter": "python",
   "pygments_lexer": "ipython2",
   "version": "2.7.14"
  }
 },
 "nbformat": 4,
 "nbformat_minor": 2
}
